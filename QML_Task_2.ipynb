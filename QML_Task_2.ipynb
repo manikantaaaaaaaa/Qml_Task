{
  "nbformat": 4,
  "nbformat_minor": 0,
  "metadata": {
    "colab": {
      "provenance": [],
      "authorship_tag": "ABX9TyOimzOiYmi25EYmCQKv7WAa",
      "include_colab_link": true
    },
    "kernelspec": {
      "name": "python3",
      "display_name": "Python 3"
    },
    "language_info": {
      "name": "python"
    }
  },
  "cells": [
    {
      "cell_type": "markdown",
      "metadata": {
        "id": "view-in-github",
        "colab_type": "text"
      },
      "source": [
        "<a href=\"https://colab.research.google.com/github/manikantaaaaaaaa/Qml_Task/blob/main/QML_Task_2.ipynb\" target=\"_parent\"><img src=\"https://colab.research.google.com/assets/colab-badge.svg\" alt=\"Open In Colab\"/></a>"
      ]
    },
    {
      "cell_type": "markdown",
      "source": [
        "# **TASK 2: Pauli Matrices and Eigenvalues/Eigenvectors**\n",
        "\n",
        "### **Aim**\n",
        "To analyze **Pauli matrices** through their application on qubit states and **eigenvalue decomposition**.\n",
        "\n",
        "\n",
        "\n",
        "### **1. Mathematical Model**\n",
        "The **Pauli matrices** are a set of three $2 \\times 2$ complex Hermitian and unitary matrices that are widely used in **quantum mechanics**, particularly in **spin systems (spin-1/2 particles)**, **quantum computing**, and **quantum information theory**.  \n",
        "They are denoted as $\\sigma_x$, $\\sigma_y$, and $\\sigma_z$, and are defined as follows:\n",
        "\n",
        "$\\sigma_x =\n",
        "\\begin{bmatrix}\n",
        "0 & 1 \\\\\n",
        "1 & 0\n",
        "\\end{bmatrix}, \\quad\n",
        "\\sigma_y =\n",
        "\\begin{bmatrix}\n",
        "0 & -i \\\\\n",
        "i & 0\n",
        "\\end{bmatrix}, \\quad\n",
        "\\sigma_z =\n",
        "\\begin{bmatrix}\n",
        "1 & 0 \\\\\n",
        "0 & -1\n",
        "\\end{bmatrix}$\n",
        "\n",
        "\n",
        "\n",
        "#### **1.1 Eigenvalues and Eigenvectors of the Pauli Matrices**\n",
        "Each Pauli matrix has eigenvalues $\\lambda = \\pm 1$ and corresponding eigenvectors as follows:\n",
        "\n",
        "**Pauli-X ($\\sigma_x$):**  \n",
        "Eigenvalues: $\\lambda = +1, -1$  \n",
        "Eigenvectors:  \n",
        "For $\\lambda = +1$, the eigenvector is $\\frac{1}{\\sqrt{2}}(|0\\rangle + |1\\rangle)$  \n",
        "For $\\lambda = -1$, the eigenvector is $\\frac{1}{\\sqrt{2}}(|0\\rangle - |1\\rangle)$\n",
        "\n",
        "**Pauli-Y ($\\sigma_y$):**  \n",
        "Eigenvalues: $\\lambda = +1, -1$  \n",
        "Eigenvectors:  \n",
        "For $\\lambda = +1$, the eigenvector is $\\frac{1}{\\sqrt{2}}(|0\\rangle + i|1\\rangle)$  \n",
        "For $\\lambda = -1$, the eigenvector is $\\frac{1}{\\sqrt{2}}(|0\\rangle - i|1\\rangle)$\n",
        "\n",
        "**Pauli-Z ($\\sigma_z$):**  \n",
        "Eigenvalues: $\\lambda = +1, -1$  \n",
        "Eigenvectors:  \n",
        "For $\\lambda = +1$, the eigenvector is $|0\\rangle$  \n",
        "For $\\lambda = -1$, the eigenvector is $|1\\rangle$\n",
        "\n",
        "\n",
        "\n",
        "### **2. Observations**\n",
        "All three Pauli matrices have eigenvalues $\\pm 1$.  \n",
        "Their eigenvectors are orthonormal, i.e., $\\langle + | - \\rangle = 0$ and $\\langle \\pm | \\pm \\rangle = 1$.  \n",
        "The eigenvectors of $\\sigma_x$ and $\\sigma_y$ are superpositions of the eigenvectors of $\\sigma_z$, reflecting the **non-commutativity** of the Pauli matrices, given by $[\\sigma_i, \\sigma_j] = 2i \\varepsilon_{ijk} \\sigma_k$.\n",
        "\n",
        "\n",
        "\n",
        "### **3. Physical Interpretation**\n",
        "In **quantum mechanics**, the Pauli matrices represent **spin measurements** along the $x$, $y$, and $z$ axes for a spin-$\\frac{1}{2}$ particle (such as an electron).  \n",
        "The eigenvalues $\\pm 1$ correspond to the possible measurement outcomes — **spin-up** or **spin-down** — and the eigenvectors represent the **spin states** along the respective axes.\n",
        "\n",
        "\n",
        "### **4. Algorithm**\n",
        "1. Define Pauli matrices $\\sigma_x$, $\\sigma_y$, and $\\sigma_z$.  \n",
        "2. Apply these matrices to the basis qubit states $|0\\rangle$ and $|1\\rangle$.  \n",
        "3. Compute eigenvalues and eigenvectors using linear algebraic methods.  \n",
        "4. Verify Hermitian and unitary properties of each matrix.  \n",
        "5. Display eigenvalues and eigenvectors for validation.\n",
        "\n",
        "\n",
        "\n"
      ],
      "metadata": {
        "id": "-Or7H0-0AFWc"
      }
    },
    {
      "cell_type": "code",
      "execution_count": null,
      "metadata": {
        "colab": {
          "base_uri": "https://localhost:8080/"
        },
        "id": "XtSXpfrOVv_v",
        "outputId": "c58d4aaf-5581-44f0-a62d-3979af4fd755"
      },
      "outputs": [
        {
          "output_type": "stream",
          "name": "stdout",
          "text": [
            "TASK 2: PAULI MATRICES AND EIGEN-ANALYSIS\n",
            "==================================================\n",
            "Pauli-X matrix:\n",
            "[[0 1]\n",
            " [1 0]]\n",
            "\n",
            "Pauli-Y matrix:\n",
            "[[ 0.+0.j -0.-1.j]\n",
            " [ 0.+1.j  0.+0.j]]\n",
            "\n",
            "Pauli-Z matrix:\n",
            "[[ 1  0]\n",
            " [ 0 -1]]\n",
            "\n",
            "Applying Pauli-X to |0⟩: [0 1]\n",
            "Applying Pauli-X to |1⟩: [1 0]\n",
            "\n",
            "Pauli-X Eigenvalues: [ 1.+0.j -1.+0.j]\n",
            "Pauli-X Eigenvectors:\n",
            " λ=1.0+0.0j: [0.70710678 0.70710678]\n",
            " λ=-1.0+0.0j: [-0.70710678  0.70710678]\n",
            "\n",
            "Pauli-Y Eigenvalues: [ 1.+0.j -1.+0.j]\n",
            "Pauli-Y Eigenvectors:\n",
            " λ=1.0+0.0j: [-0.        -0.70710678j  0.70710678+0.j        ]\n",
            " λ=-1.0+0.0j: [0.70710678+0.j         0.        -0.70710678j]\n",
            "\n",
            "Pauli-Z Eigenvalues: [ 1.+0.j -1.+0.j]\n",
            "Pauli-Z Eigenvectors:\n",
            " λ=1.0+0.0j: [1. 0.]\n",
            " λ=-1.0+0.0j: [0. 1.]\n"
          ]
        }
      ],
      "source": [
        "import numpy as np\n",
        "from scipy.linalg import eig\n",
        "\n",
        "print(\"TASK 2: PAULI MATRICES AND EIGEN-ANALYSIS\")\n",
        "print(\"=\"*50)\n",
        "# Define Pauli matrices\n",
        "pauli_x = np.array([[0, 1], [1, 0]])\n",
        "pauli_y = np.array([[0, -1j], [1j, 0]])\n",
        "pauli_z = np.array([[1, 0], [0, -1]])\n",
        "print(\"Pauli-X matrix:\")\n",
        "print(pauli_x)\n",
        "print(\"\\nPauli-Y matrix:\")\n",
        "print(pauli_y)\n",
        "print(\"\\nPauli-Z matrix:\")\n",
        "print(pauli_z)\n",
        "# Apply to qubit states\n",
        "qubit_0 = np.array([1, 0]) # |0⟩\n",
        "qubit_1 = np.array([0, 1]) # |1⟩\n",
        "print(\"\\nApplying Pauli-X to |0⟩:\", pauli_x @ qubit_0)\n",
        "print(\"Applying Pauli-X to |1⟩:\", pauli_x @ qubit_1)\n",
        "# Compute eigenvalues and eigenvectors\n",
        "def analyze_operator(matrix, name):\n",
        "  eigenvals, eigenvecs = eig(matrix)\n",
        "  print(f\"\\n{name} Eigenvalues:\", eigenvals)\n",
        "  print(f\"{name} Eigenvectors:\")\n",
        "  for i, vec in enumerate(eigenvecs.T):\n",
        "    print(f\" λ={eigenvals[i]:.1f}: {vec}\")\n",
        "\n",
        "analyze_operator(pauli_x, \"Pauli-X\")\n",
        "analyze_operator(pauli_y, \"Pauli-Y\")\n",
        "analyze_operator(pauli_z, \"Pauli-Z\")"
      ]
    },
    {
      "cell_type": "markdown",
      "source": [
        "### **6. Result**\n",
        "The **Pauli matrices** were successfully defined and analyzed. Their **eigenvalues** and **eigenvectors** were correctly determined as $\\lambda = \\pm 1$, consistent with theoretical expectations.  \n",
        "The results confirm that the Pauli operators are both **Hermitian** and **unitary**, and they form the foundation of single-qubit operations in quantum computing."
      ],
      "metadata": {
        "id": "KZbE3AFXARYg"
      }
    }
  ]
}